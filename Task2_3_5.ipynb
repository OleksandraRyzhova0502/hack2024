{
 "cells": [
  {
   "cell_type": "code",
   "execution_count": 39,
   "id": "85e1fae6",
   "metadata": {},
   "outputs": [],
   "source": [
    "import pandas as pd\n",
    "import matplotlib.pyplot as plt \n",
    "from matplotlib.cbook import boxplot_stats"
   ]
  },
  {
   "cell_type": "code",
   "execution_count": 2,
   "id": "a0eca6f8",
   "metadata": {},
   "outputs": [],
   "source": [
    "orders = pd.read_csv('orders.csv')"
   ]
  },
  {
   "cell_type": "markdown",
   "id": "d5bf573e",
   "metadata": {},
   "source": [
    "# 3. Чи є у закладу пікові години?"
   ]
  },
  {
   "cell_type": "code",
   "execution_count": 16,
   "id": "9f5fb664",
   "metadata": {},
   "outputs": [],
   "source": [
    "# convert time to hour\n",
    "orders['hour'] = [i.split(':')[0] for i in list(orders['time'])]"
   ]
  },
  {
   "cell_type": "code",
   "execution_count": 41,
   "id": "3fbddac7",
   "metadata": {},
   "outputs": [],
   "source": [
    "result = orders.groupby(['hour', 'date'])['order_id'].size().reset_index(name='count')"
   ]
  },
  {
   "cell_type": "code",
   "execution_count": 70,
   "id": "09fee20e",
   "metadata": {},
   "outputs": [
    {
     "data": {
      "text/html": [
       "<div>\n",
       "<style scoped>\n",
       "    .dataframe tbody tr th:only-of-type {\n",
       "        vertical-align: middle;\n",
       "    }\n",
       "\n",
       "    .dataframe tbody tr th {\n",
       "        vertical-align: top;\n",
       "    }\n",
       "\n",
       "    .dataframe thead th {\n",
       "        text-align: right;\n",
       "    }\n",
       "</style>\n",
       "<table border=\"1\" class=\"dataframe\">\n",
       "  <thead>\n",
       "    <tr style=\"text-align: right;\">\n",
       "      <th></th>\n",
       "      <th>hour</th>\n",
       "      <th>date</th>\n",
       "      <th>count</th>\n",
       "    </tr>\n",
       "  </thead>\n",
       "  <tbody>\n",
       "    <tr>\n",
       "      <th>0</th>\n",
       "      <td>09</td>\n",
       "      <td>2015-11-24</td>\n",
       "      <td>1</td>\n",
       "    </tr>\n",
       "    <tr>\n",
       "      <th>1</th>\n",
       "      <td>10</td>\n",
       "      <td>2015-02-25</td>\n",
       "      <td>1</td>\n",
       "    </tr>\n",
       "    <tr>\n",
       "      <th>2</th>\n",
       "      <td>10</td>\n",
       "      <td>2015-03-30</td>\n",
       "      <td>1</td>\n",
       "    </tr>\n",
       "    <tr>\n",
       "      <th>3</th>\n",
       "      <td>10</td>\n",
       "      <td>2015-04-04</td>\n",
       "      <td>1</td>\n",
       "    </tr>\n",
       "    <tr>\n",
       "      <th>4</th>\n",
       "      <td>10</td>\n",
       "      <td>2015-05-07</td>\n",
       "      <td>1</td>\n",
       "    </tr>\n",
       "  </tbody>\n",
       "</table>\n",
       "</div>"
      ],
      "text/plain": [
       "  hour        date  count\n",
       "0   09  2015-11-24      1\n",
       "1   10  2015-02-25      1\n",
       "2   10  2015-03-30      1\n",
       "3   10  2015-04-04      1\n",
       "4   10  2015-05-07      1"
      ]
     },
     "execution_count": 70,
     "metadata": {},
     "output_type": "execute_result"
    }
   ],
   "source": [
    "result.head(5)"
   ]
  },
  {
   "cell_type": "code",
   "execution_count": 82,
   "id": "a98a4b94",
   "metadata": {},
   "outputs": [
    {
     "data": {
      "text/html": [
       "<div>\n",
       "<style scoped>\n",
       "    .dataframe tbody tr th:only-of-type {\n",
       "        vertical-align: middle;\n",
       "    }\n",
       "\n",
       "    .dataframe tbody tr th {\n",
       "        vertical-align: top;\n",
       "    }\n",
       "\n",
       "    .dataframe thead th {\n",
       "        text-align: right;\n",
       "    }\n",
       "</style>\n",
       "<table border=\"1\" class=\"dataframe\">\n",
       "  <thead>\n",
       "    <tr style=\"text-align: right;\">\n",
       "      <th></th>\n",
       "      <th>count</th>\n",
       "      <th>date</th>\n",
       "      <th>avg_count</th>\n",
       "    </tr>\n",
       "    <tr>\n",
       "      <th>hour</th>\n",
       "      <th></th>\n",
       "      <th></th>\n",
       "      <th></th>\n",
       "    </tr>\n",
       "  </thead>\n",
       "  <tbody>\n",
       "    <tr>\n",
       "      <th>09</th>\n",
       "      <td>1</td>\n",
       "      <td>1</td>\n",
       "      <td>1.000000</td>\n",
       "    </tr>\n",
       "    <tr>\n",
       "      <th>10</th>\n",
       "      <td>8</td>\n",
       "      <td>8</td>\n",
       "      <td>1.000000</td>\n",
       "    </tr>\n",
       "    <tr>\n",
       "      <th>11</th>\n",
       "      <td>1231</td>\n",
       "      <td>331</td>\n",
       "      <td>3.719033</td>\n",
       "    </tr>\n",
       "    <tr>\n",
       "      <th>12</th>\n",
       "      <td>2520</td>\n",
       "      <td>357</td>\n",
       "      <td>7.058824</td>\n",
       "    </tr>\n",
       "    <tr>\n",
       "      <th>13</th>\n",
       "      <td>2455</td>\n",
       "      <td>358</td>\n",
       "      <td>6.857542</td>\n",
       "    </tr>\n",
       "  </tbody>\n",
       "</table>\n",
       "</div>"
      ],
      "text/plain": [
       "      count  date  avg_count\n",
       "hour                        \n",
       "09        1     1   1.000000\n",
       "10        8     8   1.000000\n",
       "11     1231   331   3.719033\n",
       "12     2520   357   7.058824\n",
       "13     2455   358   6.857542"
      ]
     },
     "execution_count": 82,
     "metadata": {},
     "output_type": "execute_result"
    }
   ],
   "source": [
    "result_fin = result.groupby(['hour']).agg({'count': 'sum', 'date': 'size'})\n",
    "result_fin['avg_count'] = result_fin['count']/result_fin['date']\n",
    "result_fin.head(5)"
   ]
  },
  {
   "cell_type": "code",
   "execution_count": 96,
   "id": "35661eac",
   "metadata": {},
   "outputs": [
    {
     "name": "stderr",
     "output_type": "stream",
     "text": [
      "No handles with labels found to put in legend.\n"
     ]
    },
    {
     "data": {
      "image/png": "[encoded data removed]",
      "text/plain": [
       "<Figure size 576x432 with 1 Axes>"
      ]
     },
     "metadata": {
      "needs_background": "light"
     },
     "output_type": "display_data"
    }
   ],
   "source": [
    "plt.figure(figsize=(8, 6))\n",
    "plt.bar(result_fin.index.tolist(), result_fin['avg_count'], color='lightseagreen')\n",
    "plt.xlabel('Hour')\n",
    "plt.ylabel('Count_orders')\n",
    "plt.legend()\n",
    "plt.show()"
   ]
  },
  {
   "cell_type": "code",
   "execution_count": null,
   "id": "fed117c7",
   "metadata": {},
   "outputs": [],
   "source": [
    "# але повернемось до датасету result, як бачимо з графіку там наявні викиди"
   ]
  },
  {
   "cell_type": "code",
   "execution_count": 42,
   "id": "ab57d732",
   "metadata": {},
   "outputs": [
    {
     "data": {
      "text/plain": [
       "{'whiskers': [<matplotlib.lines.Line2D at 0x7f8a4814bfd0>,\n",
       "  <matplotlib.lines.Line2D at 0x7f8a481652e0>],\n",
       " 'caps': [<matplotlib.lines.Line2D at 0x7f8a48165670>,\n",
       "  <matplotlib.lines.Line2D at 0x7f8a48165a00>],\n",
       " 'boxes': [<matplotlib.lines.Line2D at 0x7f8a4814bca0>],\n",
       " 'medians': [<matplotlib.lines.Line2D at 0x7f8a48165d90>],\n",
       " 'fliers': [<matplotlib.lines.Line2D at 0x7f8a48172160>],\n",
       " 'means': []}"
      ]
     },
     "execution_count": 42,
     "metadata": {},
     "output_type": "execute_result"
    },
    {
     "data": {
      "image/png": "[encoded data removed]",
      "text/plain": [
       "<Figure size 432x288 with 1 Axes>"
      ]
     },
     "metadata": {
      "needs_background": "light"
     },
     "output_type": "display_data"
    }
   ],
   "source": [
    "plt.boxplot(result['count'])"
   ]
  },
  {
   "cell_type": "code",
   "execution_count": 83,
   "id": "1038d9a4",
   "metadata": {},
   "outputs": [
    {
     "name": "stdout",
     "output_type": "stream",
     "text": [
      "[14 14 15 14 14 14 16 14 14 15 15 16 19 15 15 14 15 18 16 14 18 14 14 15\n",
      " 14 14 19 14]\n"
     ]
    }
   ],
   "source": [
    "outliers = boxplot_stats(result['count']).pop(0)['fliers']\n",
    "print(outliers)"
   ]
  },
  {
   "cell_type": "code",
   "execution_count": 74,
   "id": "e825c586",
   "metadata": {},
   "outputs": [],
   "source": [
    "result_pro = result[~result['count'].isin(outliers)]\n",
    "result_pro.head(5)"
   ]
  },
  {
   "cell_type": "code",
   "execution_count": 84,
   "id": "c75a1b1a",
   "metadata": {},
   "outputs": [
    {
     "data": {
      "text/html": [
       "<div>\n",
       "<style scoped>\n",
       "    .dataframe tbody tr th:only-of-type {\n",
       "        vertical-align: middle;\n",
       "    }\n",
       "\n",
       "    .dataframe tbody tr th {\n",
       "        vertical-align: top;\n",
       "    }\n",
       "\n",
       "    .dataframe thead th {\n",
       "        text-align: right;\n",
       "    }\n",
       "</style>\n",
       "<table border=\"1\" class=\"dataframe\">\n",
       "  <thead>\n",
       "    <tr style=\"text-align: right;\">\n",
       "      <th></th>\n",
       "      <th>count</th>\n",
       "      <th>date</th>\n",
       "      <th>avg_count</th>\n",
       "    </tr>\n",
       "    <tr>\n",
       "      <th>hour</th>\n",
       "      <th></th>\n",
       "      <th></th>\n",
       "      <th></th>\n",
       "    </tr>\n",
       "  </thead>\n",
       "  <tbody>\n",
       "    <tr>\n",
       "      <th>09</th>\n",
       "      <td>1</td>\n",
       "      <td>1</td>\n",
       "      <td>1.000000</td>\n",
       "    </tr>\n",
       "    <tr>\n",
       "      <th>10</th>\n",
       "      <td>8</td>\n",
       "      <td>8</td>\n",
       "      <td>1.000000</td>\n",
       "    </tr>\n",
       "    <tr>\n",
       "      <th>11</th>\n",
       "      <td>1231</td>\n",
       "      <td>331</td>\n",
       "      <td>3.719033</td>\n",
       "    </tr>\n",
       "    <tr>\n",
       "      <th>12</th>\n",
       "      <td>2391</td>\n",
       "      <td>348</td>\n",
       "      <td>6.870690</td>\n",
       "    </tr>\n",
       "    <tr>\n",
       "      <th>13</th>\n",
       "      <td>2390</td>\n",
       "      <td>354</td>\n",
       "      <td>6.751412</td>\n",
       "    </tr>\n",
       "  </tbody>\n",
       "</table>\n",
       "</div>"
      ],
      "text/plain": [
       "      count  date  avg_count\n",
       "hour                        \n",
       "09        1     1   1.000000\n",
       "10        8     8   1.000000\n",
       "11     1231   331   3.719033\n",
       "12     2391   348   6.870690\n",
       "13     2390   354   6.751412"
      ]
     },
     "execution_count": 84,
     "metadata": {},
     "output_type": "execute_result"
    }
   ],
   "source": [
    "result_fin_pro = result_pro.groupby(['hour']).agg({'count': 'sum', 'date': 'size'})\n",
    "result_fin_pro['avg_count'] = result_fin_pro['count']/result_fin_pro['date']\n",
    "result_fin_pro.head(5)"
   ]
  },
  {
   "cell_type": "code",
   "execution_count": 101,
   "id": "daec3f07",
   "metadata": {},
   "outputs": [
    {
     "name": "stderr",
     "output_type": "stream",
     "text": [
      "No handles with labels found to put in legend.\n"
     ]
    },
    {
     "data": {
      "image/png": "[encoded data removed]",
      "text/plain": [
       "<Figure size 576x432 with 1 Axes>"
      ]
     },
     "metadata": {
      "needs_background": "light"
     },
     "output_type": "display_data"
    }
   ],
   "source": [
    "plt.figure(figsize=(8, 6))\n",
    "plt.bar(result_fin_pro.index.tolist(), result_fin_pro['avg_count'], color='mediumvioletred')\n",
    "plt.xlabel('Hour')\n",
    "plt.ylabel('Count_orders')\n",
    "plt.legend()\n",
    "plt.show()"
   ]
  },
  {
   "cell_type": "code",
   "execution_count": 85,
   "id": "25d35374",
   "metadata": {},
   "outputs": [],
   "source": [
    "# як бачимо навіть без викидів, графік майже не змінився"
   ]
  },
  {
   "cell_type": "markdown",
   "id": "a91204b4",
   "metadata": {},
   "source": [
    "### Отже, найбільш пікові години в закладі в обід ( з 12 по 13) і ввечері (з 17 по 18). А от найменше замовлень вранці (до 11) та пізно ввечері (після 22). Невеликий спад також спостерігається з 14 по 15 годину дня."
   ]
  },
  {
   "cell_type": "markdown",
   "id": "d8ca1020",
   "metadata": {},
   "source": [
    "# 4. Чи існує певна сезонна кореляція продажів?"
   ]
  },
  {
   "cell_type": "code",
   "execution_count": 86,
   "id": "beb608c6",
   "metadata": {},
   "outputs": [],
   "source": [
    "# подивимось дані помісячно та потижнево"
   ]
  },
  {
   "cell_type": "code",
   "execution_count": 89,
   "id": "2aa72c0c",
   "metadata": {},
   "outputs": [],
   "source": [
    "orders['month'] = [int(i.split('-')[1]) for i in list(orders['date'])]\n",
    "orders['date'] = pd.to_datetime(orders['date'])\n",
    "orders['week'] = orders['date'].dt.week"
   ]
  },
  {
   "cell_type": "code",
   "execution_count": 93,
   "id": "9229ba57",
   "metadata": {},
   "outputs": [
    {
     "data": {
      "text/html": [
       "<div>\n",
       "<style scoped>\n",
       "    .dataframe tbody tr th:only-of-type {\n",
       "        vertical-align: middle;\n",
       "    }\n",
       "\n",
       "    .dataframe tbody tr th {\n",
       "        vertical-align: top;\n",
       "    }\n",
       "\n",
       "    .dataframe thead th {\n",
       "        text-align: right;\n",
       "    }\n",
       "</style>\n",
       "<table border=\"1\" class=\"dataframe\">\n",
       "  <thead>\n",
       "    <tr style=\"text-align: right;\">\n",
       "      <th></th>\n",
       "      <th>order_id</th>\n",
       "      <th>date</th>\n",
       "      <th>time</th>\n",
       "      <th>hour</th>\n",
       "      <th>month</th>\n",
       "      <th>week</th>\n",
       "    </tr>\n",
       "  </thead>\n",
       "  <tbody>\n",
       "    <tr>\n",
       "      <th>0</th>\n",
       "      <td>1</td>\n",
       "      <td>2015-01-01</td>\n",
       "      <td>11:38:36</td>\n",
       "      <td>11</td>\n",
       "      <td>1</td>\n",
       "      <td>1</td>\n",
       "    </tr>\n",
       "    <tr>\n",
       "      <th>1</th>\n",
       "      <td>2</td>\n",
       "      <td>2015-01-01</td>\n",
       "      <td>11:57:40</td>\n",
       "      <td>11</td>\n",
       "      <td>1</td>\n",
       "      <td>1</td>\n",
       "    </tr>\n",
       "    <tr>\n",
       "      <th>2</th>\n",
       "      <td>3</td>\n",
       "      <td>2015-01-01</td>\n",
       "      <td>12:12:28</td>\n",
       "      <td>12</td>\n",
       "      <td>1</td>\n",
       "      <td>1</td>\n",
       "    </tr>\n",
       "    <tr>\n",
       "      <th>3</th>\n",
       "      <td>4</td>\n",
       "      <td>2015-01-01</td>\n",
       "      <td>12:16:31</td>\n",
       "      <td>12</td>\n",
       "      <td>1</td>\n",
       "      <td>1</td>\n",
       "    </tr>\n",
       "    <tr>\n",
       "      <th>4</th>\n",
       "      <td>5</td>\n",
       "      <td>2015-01-01</td>\n",
       "      <td>12:21:30</td>\n",
       "      <td>12</td>\n",
       "      <td>1</td>\n",
       "      <td>1</td>\n",
       "    </tr>\n",
       "  </tbody>\n",
       "</table>\n",
       "</div>"
      ],
      "text/plain": [
       "   order_id       date      time hour  month  week\n",
       "0         1 2015-01-01  11:38:36   11      1     1\n",
       "1         2 2015-01-01  11:57:40   11      1     1\n",
       "2         3 2015-01-01  12:12:28   12      1     1\n",
       "3         4 2015-01-01  12:16:31   12      1     1\n",
       "4         5 2015-01-01  12:21:30   12      1     1"
      ]
     },
     "execution_count": 93,
     "metadata": {},
     "output_type": "execute_result"
    }
   ],
   "source": [
    "orders.head()"
   ]
  },
  {
   "cell_type": "code",
   "execution_count": null,
   "id": "bfb55d51",
   "metadata": {},
   "outputs": [],
   "source": [
    "# помісячно"
   ]
  },
  {
   "cell_type": "code",
   "execution_count": 94,
   "id": "60c1e60b",
   "metadata": {},
   "outputs": [
    {
     "data": {
      "text/html": [
       "<div>\n",
       "<style scoped>\n",
       "    .dataframe tbody tr th:only-of-type {\n",
       "        vertical-align: middle;\n",
       "    }\n",
       "\n",
       "    .dataframe tbody tr th {\n",
       "        vertical-align: top;\n",
       "    }\n",
       "\n",
       "    .dataframe thead th {\n",
       "        text-align: right;\n",
       "    }\n",
       "</style>\n",
       "<table border=\"1\" class=\"dataframe\">\n",
       "  <thead>\n",
       "    <tr style=\"text-align: right;\">\n",
       "      <th></th>\n",
       "      <th>count</th>\n",
       "      <th>date</th>\n",
       "      <th>avg_count</th>\n",
       "    </tr>\n",
       "    <tr>\n",
       "      <th>month</th>\n",
       "      <th></th>\n",
       "      <th></th>\n",
       "      <th></th>\n",
       "    </tr>\n",
       "  </thead>\n",
       "  <tbody>\n",
       "    <tr>\n",
       "      <th>1</th>\n",
       "      <td>1845</td>\n",
       "      <td>31</td>\n",
       "      <td>59.516129</td>\n",
       "    </tr>\n",
       "    <tr>\n",
       "      <th>2</th>\n",
       "      <td>1685</td>\n",
       "      <td>28</td>\n",
       "      <td>60.178571</td>\n",
       "    </tr>\n",
       "    <tr>\n",
       "      <th>3</th>\n",
       "      <td>1840</td>\n",
       "      <td>31</td>\n",
       "      <td>59.354839</td>\n",
       "    </tr>\n",
       "    <tr>\n",
       "      <th>4</th>\n",
       "      <td>1799</td>\n",
       "      <td>30</td>\n",
       "      <td>59.966667</td>\n",
       "    </tr>\n",
       "    <tr>\n",
       "      <th>5</th>\n",
       "      <td>1853</td>\n",
       "      <td>31</td>\n",
       "      <td>59.774194</td>\n",
       "    </tr>\n",
       "  </tbody>\n",
       "</table>\n",
       "</div>"
      ],
      "text/plain": [
       "       count  date  avg_count\n",
       "month                        \n",
       "1       1845    31  59.516129\n",
       "2       1685    28  60.178571\n",
       "3       1840    31  59.354839\n",
       "4       1799    30  59.966667\n",
       "5       1853    31  59.774194"
      ]
     },
     "execution_count": 94,
     "metadata": {},
     "output_type": "execute_result"
    }
   ],
   "source": [
    "month_pre = orders.groupby(['month', 'date'])['order_id'].size().reset_index(name='count')\n",
    "month = month_pre.groupby(['month']).agg({'count': 'sum', 'date': 'size'})\n",
    "month['avg_count'] = month['count']/month['date']\n",
    "month.head(5)"
   ]
  },
  {
   "cell_type": "code",
   "execution_count": 106,
   "id": "e8d0a428",
   "metadata": {},
   "outputs": [
    {
     "name": "stderr",
     "output_type": "stream",
     "text": [
      "No handles with labels found to put in legend.\n"
     ]
    },
    {
     "data": {
      "image/png": "[encoded data removed]",
      "text/plain": [
       "<Figure size 720x432 with 1 Axes>"
      ]
     },
     "metadata": {
      "needs_background": "light"
     },
     "output_type": "display_data"
    }
   ],
   "source": [
    "plt.figure(figsize=(10, 6))\n",
    "plt.plot(month.index.tolist(), month['avg_count'], color='lightseagreen')\n",
    "plt.xlabel('Month')\n",
    "plt.ylabel('Avg orders per day')\n",
    "plt.legend()\n",
    "plt.show()"
   ]
  },
  {
   "cell_type": "code",
   "execution_count": null,
   "id": "1b720825",
   "metadata": {},
   "outputs": [],
   "source": [
    "# потижнево"
   ]
  },
  {
   "cell_type": "code",
   "execution_count": 99,
   "id": "30a78a32",
   "metadata": {},
   "outputs": [
    {
     "data": {
      "text/html": [
       "<div>\n",
       "<style scoped>\n",
       "    .dataframe tbody tr th:only-of-type {\n",
       "        vertical-align: middle;\n",
       "    }\n",
       "\n",
       "    .dataframe tbody tr th {\n",
       "        vertical-align: top;\n",
       "    }\n",
       "\n",
       "    .dataframe thead th {\n",
       "        text-align: right;\n",
       "    }\n",
       "</style>\n",
       "<table border=\"1\" class=\"dataframe\">\n",
       "  <thead>\n",
       "    <tr style=\"text-align: right;\">\n",
       "      <th></th>\n",
       "      <th>count</th>\n",
       "      <th>date</th>\n",
       "      <th>avg_count</th>\n",
       "    </tr>\n",
       "    <tr>\n",
       "      <th>week</th>\n",
       "      <th></th>\n",
       "      <th></th>\n",
       "      <th></th>\n",
       "    </tr>\n",
       "  </thead>\n",
       "  <tbody>\n",
       "    <tr>\n",
       "      <th>1</th>\n",
       "      <td>254</td>\n",
       "      <td>4</td>\n",
       "      <td>63.500000</td>\n",
       "    </tr>\n",
       "    <tr>\n",
       "      <th>2</th>\n",
       "      <td>427</td>\n",
       "      <td>7</td>\n",
       "      <td>61.000000</td>\n",
       "    </tr>\n",
       "    <tr>\n",
       "      <th>3</th>\n",
       "      <td>400</td>\n",
       "      <td>7</td>\n",
       "      <td>57.142857</td>\n",
       "    </tr>\n",
       "    <tr>\n",
       "      <th>4</th>\n",
       "      <td>415</td>\n",
       "      <td>7</td>\n",
       "      <td>59.285714</td>\n",
       "    </tr>\n",
       "    <tr>\n",
       "      <th>5</th>\n",
       "      <td>436</td>\n",
       "      <td>7</td>\n",
       "      <td>62.285714</td>\n",
       "    </tr>\n",
       "  </tbody>\n",
       "</table>\n",
       "</div>"
      ],
      "text/plain": [
       "      count  date  avg_count\n",
       "week                        \n",
       "1       254     4  63.500000\n",
       "2       427     7  61.000000\n",
       "3       400     7  57.142857\n",
       "4       415     7  59.285714\n",
       "5       436     7  62.285714"
      ]
     },
     "execution_count": 99,
     "metadata": {},
     "output_type": "execute_result"
    }
   ],
   "source": [
    "week_pre = orders.groupby(['week', 'date'])['order_id'].size().reset_index(name='count')\n",
    "week = week_pre.groupby(['week']).agg({'count': 'sum', 'date': 'size'})\n",
    "week['avg_count'] = week['count']/week['date']\n",
    "week.head(5)"
   ]
  },
  {
   "cell_type": "code",
   "execution_count": 105,
   "id": "3f1947e3",
   "metadata": {},
   "outputs": [
    {
     "name": "stderr",
     "output_type": "stream",
     "text": [
      "No handles with labels found to put in legend.\n"
     ]
    },
    {
     "data": {
      "image/png": "[encoded data removed]",
      "text/plain": [
       "<Figure size 864x432 with 1 Axes>"
      ]
     },
     "metadata": {
      "needs_background": "light"
     },
     "output_type": "display_data"
    }
   ],
   "source": [
    "plt.figure(figsize=(12, 6))\n",
    "plt.plot(week.index.tolist(), week['avg_count'], color='mediumvioletred')\n",
    "plt.xlabel('Week')\n",
    "plt.ylabel('Avg orders per day')\n",
    "plt.legend()\n",
    "plt.show()"
   ]
  },
  {
   "cell_type": "markdown",
   "id": "62de7a7c",
   "metadata": {},
   "source": [
    "### Як бачимо з графіків певна сезонність дійсно спостерігається, так на липень та жовтень приходяться піки продажів, у той час як в грудні спостерігається сильний спад замовлень.\n",
    "### Потижнево можна помітити, що найгірше показує себе останні півтора тижні місяця, при цьому початок року показує себе досить непогано. Також певне просідання помітно восени, хоча на листопад приходиться найприбутковіший день."
   ]
  },
  {
   "cell_type": "markdown",
   "id": "d99f8924",
   "metadata": {},
   "source": [
    "# 5.Чи варто на вашу думку вилучити певні позиції з меню, і якщо так, то які саме?"
   ]
  },
  {
   "cell_type": "code",
   "execution_count": 114,
   "id": "803f8875",
   "metadata": {},
   "outputs": [],
   "source": [
    "order_details = pd.read_csv('order_details.csv')\n",
    "pizza_types = pd.read_csv('pizza_types1.csv')\n",
    "pizzas = pd.read_csv('pizzas.csv')"
   ]
  },
  {
   "cell_type": "code",
   "execution_count": 110,
   "id": "045f427a",
   "metadata": {},
   "outputs": [
    {
     "data": {
      "text/html": [
       "<div>\n",
       "<style scoped>\n",
       "    .dataframe tbody tr th:only-of-type {\n",
       "        vertical-align: middle;\n",
       "    }\n",
       "\n",
       "    .dataframe tbody tr th {\n",
       "        vertical-align: top;\n",
       "    }\n",
       "\n",
       "    .dataframe thead th {\n",
       "        text-align: right;\n",
       "    }\n",
       "</style>\n",
       "<table border=\"1\" class=\"dataframe\">\n",
       "  <thead>\n",
       "    <tr style=\"text-align: right;\">\n",
       "      <th></th>\n",
       "      <th>order_details_id</th>\n",
       "      <th>order_id</th>\n",
       "      <th>pizza_id</th>\n",
       "      <th>quantity</th>\n",
       "    </tr>\n",
       "  </thead>\n",
       "  <tbody>\n",
       "    <tr>\n",
       "      <th>0</th>\n",
       "      <td>1</td>\n",
       "      <td>1</td>\n",
       "      <td>hawaiian_m</td>\n",
       "      <td>1</td>\n",
       "    </tr>\n",
       "    <tr>\n",
       "      <th>1</th>\n",
       "      <td>2</td>\n",
       "      <td>2</td>\n",
       "      <td>classic_dlx_m</td>\n",
       "      <td>1</td>\n",
       "    </tr>\n",
       "    <tr>\n",
       "      <th>2</th>\n",
       "      <td>3</td>\n",
       "      <td>2</td>\n",
       "      <td>five_cheese_l</td>\n",
       "      <td>1</td>\n",
       "    </tr>\n",
       "    <tr>\n",
       "      <th>3</th>\n",
       "      <td>4</td>\n",
       "      <td>2</td>\n",
       "      <td>ital_supr_l</td>\n",
       "      <td>1</td>\n",
       "    </tr>\n",
       "    <tr>\n",
       "      <th>4</th>\n",
       "      <td>5</td>\n",
       "      <td>2</td>\n",
       "      <td>mexicana_m</td>\n",
       "      <td>1</td>\n",
       "    </tr>\n",
       "  </tbody>\n",
       "</table>\n",
       "</div>"
      ],
      "text/plain": [
       "   order_details_id  order_id       pizza_id  quantity\n",
       "0                 1         1     hawaiian_m         1\n",
       "1                 2         2  classic_dlx_m         1\n",
       "2                 3         2  five_cheese_l         1\n",
       "3                 4         2    ital_supr_l         1\n",
       "4                 5         2     mexicana_m         1"
      ]
     },
     "execution_count": 110,
     "metadata": {},
     "output_type": "execute_result"
    }
   ],
   "source": [
    "order_details.head(5)"
   ]
  },
  {
   "cell_type": "markdown",
   "id": "8d84cc5e",
   "metadata": {},
   "source": [
    "#### Для початку, логічно, що немає сенсу відслідковувати різні розміри однієї й тієї ж піци, оскільки позицію або повністю вилучать або не вилучатимуть взагалі. Отже, подивимось в наступних розрізах: pizza_type_id, category і size"
   ]
  },
  {
   "cell_type": "code",
   "execution_count": 112,
   "id": "e8497268",
   "metadata": {},
   "outputs": [
    {
     "data": {
      "text/html": [
       "<div>\n",
       "<style scoped>\n",
       "    .dataframe tbody tr th:only-of-type {\n",
       "        vertical-align: middle;\n",
       "    }\n",
       "\n",
       "    .dataframe tbody tr th {\n",
       "        vertical-align: top;\n",
       "    }\n",
       "\n",
       "    .dataframe thead th {\n",
       "        text-align: right;\n",
       "    }\n",
       "</style>\n",
       "<table border=\"1\" class=\"dataframe\">\n",
       "  <thead>\n",
       "    <tr style=\"text-align: right;\">\n",
       "      <th></th>\n",
       "      <th>order_id</th>\n",
       "      <th>quantity</th>\n",
       "    </tr>\n",
       "    <tr>\n",
       "      <th>pizza_id</th>\n",
       "      <th></th>\n",
       "      <th></th>\n",
       "    </tr>\n",
       "  </thead>\n",
       "  <tbody>\n",
       "    <tr>\n",
       "      <th>bbq_ckn_l</th>\n",
       "      <td>967</td>\n",
       "      <td>992</td>\n",
       "    </tr>\n",
       "    <tr>\n",
       "      <th>bbq_ckn_m</th>\n",
       "      <td>926</td>\n",
       "      <td>956</td>\n",
       "    </tr>\n",
       "    <tr>\n",
       "      <th>bbq_ckn_s</th>\n",
       "      <td>479</td>\n",
       "      <td>484</td>\n",
       "    </tr>\n",
       "    <tr>\n",
       "      <th>big_meat_s</th>\n",
       "      <td>1811</td>\n",
       "      <td>1914</td>\n",
       "    </tr>\n",
       "    <tr>\n",
       "      <th>brie_carre_s</th>\n",
       "      <td>480</td>\n",
       "      <td>490</td>\n",
       "    </tr>\n",
       "  </tbody>\n",
       "</table>\n",
       "</div>"
      ],
      "text/plain": [
       "              order_id  quantity\n",
       "pizza_id                        \n",
       "bbq_ckn_l          967       992\n",
       "bbq_ckn_m          926       956\n",
       "bbq_ckn_s          479       484\n",
       "big_meat_s        1811      1914\n",
       "brie_carre_s       480       490"
      ]
     },
     "execution_count": 112,
     "metadata": {},
     "output_type": "execute_result"
    }
   ],
   "source": [
    "pizza_sum = order_details.groupby(['pizza_id']).agg({'order_id': 'size', 'quantity': 'sum'})\n",
    "pizza_sum.head(5)"
   ]
  },
  {
   "cell_type": "code",
   "execution_count": 125,
   "id": "a5ad697a",
   "metadata": {},
   "outputs": [],
   "source": [
    "name_pizza = pd.merge(pizza_sum, pizzas, on='pizza_id', how='inner')"
   ]
  },
  {
   "cell_type": "code",
   "execution_count": 126,
   "id": "e71bf8be",
   "metadata": {},
   "outputs": [],
   "source": [
    "pizza_data = pd.merge(name_pizza, pizza_types, on='pizza_type_id', how='inner')"
   ]
  },
  {
   "cell_type": "code",
   "execution_count": 127,
   "id": "9f2cee21",
   "metadata": {},
   "outputs": [
    {
     "data": {
      "text/html": [
       "<div>\n",
       "<style scoped>\n",
       "    .dataframe tbody tr th:only-of-type {\n",
       "        vertical-align: middle;\n",
       "    }\n",
       "\n",
       "    .dataframe tbody tr th {\n",
       "        vertical-align: top;\n",
       "    }\n",
       "\n",
       "    .dataframe thead th {\n",
       "        text-align: right;\n",
       "    }\n",
       "</style>\n",
       "<table border=\"1\" class=\"dataframe\">\n",
       "  <thead>\n",
       "    <tr style=\"text-align: right;\">\n",
       "      <th></th>\n",
       "      <th>pizza_id</th>\n",
       "      <th>order_id</th>\n",
       "      <th>quantity</th>\n",
       "      <th>pizza_type_id</th>\n",
       "      <th>size</th>\n",
       "      <th>price</th>\n",
       "      <th>name</th>\n",
       "      <th>category</th>\n",
       "      <th>ingredients</th>\n",
       "    </tr>\n",
       "  </thead>\n",
       "  <tbody>\n",
       "    <tr>\n",
       "      <th>0</th>\n",
       "      <td>bbq_ckn_l</td>\n",
       "      <td>967</td>\n",
       "      <td>992</td>\n",
       "      <td>bbq_ckn</td>\n",
       "      <td>L</td>\n",
       "      <td>20.75</td>\n",
       "      <td>The Barbecue Chicken Pizza</td>\n",
       "      <td>Chicken</td>\n",
       "      <td>Barbecued Chicken, Red Peppers, Green Peppers,...</td>\n",
       "    </tr>\n",
       "    <tr>\n",
       "      <th>1</th>\n",
       "      <td>bbq_ckn_m</td>\n",
       "      <td>926</td>\n",
       "      <td>956</td>\n",
       "      <td>bbq_ckn</td>\n",
       "      <td>M</td>\n",
       "      <td>16.75</td>\n",
       "      <td>The Barbecue Chicken Pizza</td>\n",
       "      <td>Chicken</td>\n",
       "      <td>Barbecued Chicken, Red Peppers, Green Peppers,...</td>\n",
       "    </tr>\n",
       "    <tr>\n",
       "      <th>2</th>\n",
       "      <td>bbq_ckn_s</td>\n",
       "      <td>479</td>\n",
       "      <td>484</td>\n",
       "      <td>bbq_ckn</td>\n",
       "      <td>S</td>\n",
       "      <td>12.75</td>\n",
       "      <td>The Barbecue Chicken Pizza</td>\n",
       "      <td>Chicken</td>\n",
       "      <td>Barbecued Chicken, Red Peppers, Green Peppers,...</td>\n",
       "    </tr>\n",
       "  </tbody>\n",
       "</table>\n",
       "</div>"
      ],
      "text/plain": [
       "    pizza_id  order_id  quantity pizza_type_id size  price  \\\n",
       "0  bbq_ckn_l       967       992       bbq_ckn    L  20.75   \n",
       "1  bbq_ckn_m       926       956       bbq_ckn    M  16.75   \n",
       "2  bbq_ckn_s       479       484       bbq_ckn    S  12.75   \n",
       "\n",
       "                         name category  \\\n",
       "0  The Barbecue Chicken Pizza  Chicken   \n",
       "1  The Barbecue Chicken Pizza  Chicken   \n",
       "2  The Barbecue Chicken Pizza  Chicken   \n",
       "\n",
       "                                         ingredients  \n",
       "0  Barbecued Chicken, Red Peppers, Green Peppers,...  \n",
       "1  Barbecued Chicken, Red Peppers, Green Peppers,...  \n",
       "2  Barbecued Chicken, Red Peppers, Green Peppers,...  "
      ]
     },
     "execution_count": 127,
     "metadata": {},
     "output_type": "execute_result"
    }
   ],
   "source": [
    "pizza_data.head(3)"
   ]
  },
  {
   "cell_type": "code",
   "execution_count": 124,
   "id": "fb7bc7a5",
   "metadata": {},
   "outputs": [
    {
     "data": {
      "text/html": [
       "<div>\n",
       "<style scoped>\n",
       "    .dataframe tbody tr th:only-of-type {\n",
       "        vertical-align: middle;\n",
       "    }\n",
       "\n",
       "    .dataframe tbody tr th {\n",
       "        vertical-align: top;\n",
       "    }\n",
       "\n",
       "    .dataframe thead th {\n",
       "        text-align: right;\n",
       "    }\n",
       "</style>\n",
       "<table border=\"1\" class=\"dataframe\">\n",
       "  <thead>\n",
       "    <tr style=\"text-align: right;\">\n",
       "      <th></th>\n",
       "      <th>order_id</th>\n",
       "      <th>quantity</th>\n",
       "    </tr>\n",
       "    <tr>\n",
       "      <th>size</th>\n",
       "      <th></th>\n",
       "      <th></th>\n",
       "    </tr>\n",
       "  </thead>\n",
       "  <tbody>\n",
       "    <tr>\n",
       "      <th>L</th>\n",
       "      <td>18526</td>\n",
       "      <td>18956</td>\n",
       "    </tr>\n",
       "    <tr>\n",
       "      <th>M</th>\n",
       "      <td>15385</td>\n",
       "      <td>15635</td>\n",
       "    </tr>\n",
       "    <tr>\n",
       "      <th>S</th>\n",
       "      <td>14137</td>\n",
       "      <td>14403</td>\n",
       "    </tr>\n",
       "    <tr>\n",
       "      <th>XL</th>\n",
       "      <td>544</td>\n",
       "      <td>552</td>\n",
       "    </tr>\n",
       "    <tr>\n",
       "      <th>XXL</th>\n",
       "      <td>28</td>\n",
       "      <td>28</td>\n",
       "    </tr>\n",
       "  </tbody>\n",
       "</table>\n",
       "</div>"
      ],
      "text/plain": [
       "      order_id  quantity\n",
       "size                    \n",
       "L        18526     18956\n",
       "M        15385     15635\n",
       "S        14137     14403\n",
       "XL         544       552\n",
       "XXL         28        28"
      ]
     },
     "execution_count": 124,
     "metadata": {},
     "output_type": "execute_result"
    }
   ],
   "source": [
    "pizza_size = pizza_data.groupby(['size']).agg({'order_id': 'sum', 'quantity': 'sum'})\n",
    "pizza_size.head(10)"
   ]
  },
  {
   "cell_type": "code",
   "execution_count": 129,
   "id": "13bcc672",
   "metadata": {},
   "outputs": [
    {
     "data": {
      "text/html": [
       "<div>\n",
       "<style scoped>\n",
       "    .dataframe tbody tr th:only-of-type {\n",
       "        vertical-align: middle;\n",
       "    }\n",
       "\n",
       "    .dataframe tbody tr th {\n",
       "        vertical-align: top;\n",
       "    }\n",
       "\n",
       "    .dataframe thead th {\n",
       "        text-align: right;\n",
       "    }\n",
       "</style>\n",
       "<table border=\"1\" class=\"dataframe\">\n",
       "  <thead>\n",
       "    <tr style=\"text-align: right;\">\n",
       "      <th></th>\n",
       "      <th>order_id</th>\n",
       "      <th>quantity</th>\n",
       "    </tr>\n",
       "    <tr>\n",
       "      <th>name</th>\n",
       "      <th></th>\n",
       "      <th></th>\n",
       "    </tr>\n",
       "  </thead>\n",
       "  <tbody>\n",
       "    <tr>\n",
       "      <th>The Barbecue Chicken Pizza</th>\n",
       "      <td>2372</td>\n",
       "      <td>2432</td>\n",
       "    </tr>\n",
       "    <tr>\n",
       "      <th>The Big Meat Pizza</th>\n",
       "      <td>1811</td>\n",
       "      <td>1914</td>\n",
       "    </tr>\n",
       "    <tr>\n",
       "      <th>The Brie Carre Pizza</th>\n",
       "      <td>480</td>\n",
       "      <td>490</td>\n",
       "    </tr>\n",
       "    <tr>\n",
       "      <th>The Calabrese Pizza</th>\n",
       "      <td>927</td>\n",
       "      <td>937</td>\n",
       "    </tr>\n",
       "    <tr>\n",
       "      <th>The California Chicken Pizza</th>\n",
       "      <td>2302</td>\n",
       "      <td>2370</td>\n",
       "    </tr>\n",
       "    <tr>\n",
       "      <th>The Chicken Alfredo Pizza</th>\n",
       "      <td>980</td>\n",
       "      <td>987</td>\n",
       "    </tr>\n",
       "    <tr>\n",
       "      <th>The Chicken Pesto Pizza</th>\n",
       "      <td>961</td>\n",
       "      <td>973</td>\n",
       "    </tr>\n",
       "    <tr>\n",
       "      <th>The Classic Deluxe Pizza</th>\n",
       "      <td>2416</td>\n",
       "      <td>2453</td>\n",
       "    </tr>\n",
       "    <tr>\n",
       "      <th>The Five Cheese Pizza</th>\n",
       "      <td>1359</td>\n",
       "      <td>1409</td>\n",
       "    </tr>\n",
       "    <tr>\n",
       "      <th>The Four Cheese Pizza</th>\n",
       "      <td>1850</td>\n",
       "      <td>1902</td>\n",
       "    </tr>\n",
       "    <tr>\n",
       "      <th>The Greek Pizza</th>\n",
       "      <td>1406</td>\n",
       "      <td>1420</td>\n",
       "    </tr>\n",
       "    <tr>\n",
       "      <th>The Green Garden Pizza</th>\n",
       "      <td>987</td>\n",
       "      <td>997</td>\n",
       "    </tr>\n",
       "    <tr>\n",
       "      <th>The Hawaiian Pizza</th>\n",
       "      <td>2370</td>\n",
       "      <td>2422</td>\n",
       "    </tr>\n",
       "    <tr>\n",
       "      <th>The Italian Capocollo Pizza</th>\n",
       "      <td>1414</td>\n",
       "      <td>1438</td>\n",
       "    </tr>\n",
       "    <tr>\n",
       "      <th>The Italian Supreme Pizza</th>\n",
       "      <td>1849</td>\n",
       "      <td>1884</td>\n",
       "    </tr>\n",
       "    <tr>\n",
       "      <th>The Italian Vegetables Pizza</th>\n",
       "      <td>975</td>\n",
       "      <td>981</td>\n",
       "    </tr>\n",
       "    <tr>\n",
       "      <th>The Mediterranean Pizza</th>\n",
       "      <td>923</td>\n",
       "      <td>934</td>\n",
       "    </tr>\n",
       "    <tr>\n",
       "      <th>The Mexicana Pizza</th>\n",
       "      <td>1456</td>\n",
       "      <td>1484</td>\n",
       "    </tr>\n",
       "    <tr>\n",
       "      <th>The Napolitana Pizza</th>\n",
       "      <td>1451</td>\n",
       "      <td>1464</td>\n",
       "    </tr>\n",
       "    <tr>\n",
       "      <th>The Pepper Salami Pizza</th>\n",
       "      <td>1422</td>\n",
       "      <td>1446</td>\n",
       "    </tr>\n",
       "    <tr>\n",
       "      <th>The Pepperoni Pizza</th>\n",
       "      <td>2369</td>\n",
       "      <td>2418</td>\n",
       "    </tr>\n",
       "    <tr>\n",
       "      <th>The Pepperoni, Mushroom, and Peppers Pizza</th>\n",
       "      <td>1342</td>\n",
       "      <td>1359</td>\n",
       "    </tr>\n",
       "    <tr>\n",
       "      <th>The Prosciutto and Arugula Pizza</th>\n",
       "      <td>1428</td>\n",
       "      <td>1457</td>\n",
       "    </tr>\n",
       "    <tr>\n",
       "      <th>The Sicilian Pizza</th>\n",
       "      <td>1887</td>\n",
       "      <td>1938</td>\n",
       "    </tr>\n",
       "    <tr>\n",
       "      <th>The Soppressata Pizza</th>\n",
       "      <td>957</td>\n",
       "      <td>961</td>\n",
       "    </tr>\n",
       "    <tr>\n",
       "      <th>The Southwest Chicken Pizza</th>\n",
       "      <td>1885</td>\n",
       "      <td>1917</td>\n",
       "    </tr>\n",
       "    <tr>\n",
       "      <th>The Spicy Italian Pizza</th>\n",
       "      <td>1887</td>\n",
       "      <td>1924</td>\n",
       "    </tr>\n",
       "    <tr>\n",
       "      <th>The Spinach Pesto Pizza</th>\n",
       "      <td>957</td>\n",
       "      <td>970</td>\n",
       "    </tr>\n",
       "    <tr>\n",
       "      <th>The Spinach Supreme Pizza</th>\n",
       "      <td>940</td>\n",
       "      <td>950</td>\n",
       "    </tr>\n",
       "    <tr>\n",
       "      <th>The Spinach and Feta Pizza</th>\n",
       "      <td>1432</td>\n",
       "      <td>1446</td>\n",
       "    </tr>\n",
       "    <tr>\n",
       "      <th>The Thai Chicken Pizza</th>\n",
       "      <td>2315</td>\n",
       "      <td>2371</td>\n",
       "    </tr>\n",
       "    <tr>\n",
       "      <th>The Vegetables + Vegetables Pizza</th>\n",
       "      <td>1510</td>\n",
       "      <td>1526</td>\n",
       "    </tr>\n",
       "  </tbody>\n",
       "</table>\n",
       "</div>"
      ],
      "text/plain": [
       "                                            order_id  quantity\n",
       "name                                                          \n",
       "The Barbecue Chicken Pizza                      2372      2432\n",
       "The Big Meat Pizza                              1811      1914\n",
       "The Brie Carre Pizza                             480       490\n",
       "The Calabrese Pizza                              927       937\n",
       "The California Chicken Pizza                    2302      2370\n",
       "The Chicken Alfredo Pizza                        980       987\n",
       "The Chicken Pesto Pizza                          961       973\n",
       "The Classic Deluxe Pizza                        2416      2453\n",
       "The Five Cheese Pizza                           1359      1409\n",
       "The Four Cheese Pizza                           1850      1902\n",
       "The Greek Pizza                                 1406      1420\n",
       "The Green Garden Pizza                           987       997\n",
       "The Hawaiian Pizza                              2370      2422\n",
       "The Italian Capocollo Pizza                     1414      1438\n",
       "The Italian Supreme Pizza                       1849      1884\n",
       "The Italian Vegetables Pizza                     975       981\n",
       "The Mediterranean Pizza                          923       934\n",
       "The Mexicana Pizza                              1456      1484\n",
       "The Napolitana Pizza                            1451      1464\n",
       "The Pepper Salami Pizza                         1422      1446\n",
       "The Pepperoni Pizza                             2369      2418\n",
       "The Pepperoni, Mushroom, and Peppers Pizza      1342      1359\n",
       "The Prosciutto and Arugula Pizza                1428      1457\n",
       "The Sicilian Pizza                              1887      1938\n",
       "The Soppressata Pizza                            957       961\n",
       "The Southwest Chicken Pizza                     1885      1917\n",
       "The Spicy Italian Pizza                         1887      1924\n",
       "The Spinach Pesto Pizza                          957       970\n",
       "The Spinach Supreme Pizza                        940       950\n",
       "The Spinach and Feta Pizza                      1432      1446\n",
       "The Thai Chicken Pizza                          2315      2371\n",
       "The Vegetables + Vegetables Pizza               1510      1526"
      ]
     },
     "execution_count": 129,
     "metadata": {},
     "output_type": "execute_result"
    }
   ],
   "source": [
    "pizza_name = pizza_data.groupby(['name']).agg({'order_id': 'sum', 'quantity': 'sum'})\n",
    "pizza_name.head(100)"
   ]
  },
  {
   "cell_type": "code",
   "execution_count": 131,
   "id": "710635ea",
   "metadata": {},
   "outputs": [
    {
     "data": {
      "text/html": [
       "<div>\n",
       "<style scoped>\n",
       "    .dataframe tbody tr th:only-of-type {\n",
       "        vertical-align: middle;\n",
       "    }\n",
       "\n",
       "    .dataframe tbody tr th {\n",
       "        vertical-align: top;\n",
       "    }\n",
       "\n",
       "    .dataframe thead th {\n",
       "        text-align: right;\n",
       "    }\n",
       "</style>\n",
       "<table border=\"1\" class=\"dataframe\">\n",
       "  <thead>\n",
       "    <tr style=\"text-align: right;\">\n",
       "      <th></th>\n",
       "      <th>order_id</th>\n",
       "      <th>quantity</th>\n",
       "    </tr>\n",
       "    <tr>\n",
       "      <th>category</th>\n",
       "      <th></th>\n",
       "      <th></th>\n",
       "    </tr>\n",
       "  </thead>\n",
       "  <tbody>\n",
       "    <tr>\n",
       "      <th>Chicken</th>\n",
       "      <td>10815</td>\n",
       "      <td>11050</td>\n",
       "    </tr>\n",
       "    <tr>\n",
       "      <th>Classic</th>\n",
       "      <td>14579</td>\n",
       "      <td>14888</td>\n",
       "    </tr>\n",
       "    <tr>\n",
       "      <th>Supreme</th>\n",
       "      <td>11777</td>\n",
       "      <td>11987</td>\n",
       "    </tr>\n",
       "    <tr>\n",
       "      <th>Veggie</th>\n",
       "      <td>11449</td>\n",
       "      <td>11649</td>\n",
       "    </tr>\n",
       "  </tbody>\n",
       "</table>\n",
       "</div>"
      ],
      "text/plain": [
       "          order_id  quantity\n",
       "category                    \n",
       "Chicken      10815     11050\n",
       "Classic      14579     14888\n",
       "Supreme      11777     11987\n",
       "Veggie       11449     11649"
      ]
     },
     "execution_count": 131,
     "metadata": {},
     "output_type": "execute_result"
    }
   ],
   "source": [
    "pizza_category = pizza_data.groupby(['category']).agg({'order_id': 'sum', 'quantity': 'sum'})\n",
    "pizza_category.head(10)"
   ]
  },
  {
   "cell_type": "markdown",
   "id": "7a215dee",
   "metadata": {},
   "source": [
    "### За категоріями кількість замовлень майже рівномірна. \n",
    "### За видом піцци помітних аутсайдерів також немає.\n",
    "### Інша ситуація з розміром 'The Greek Pizza' єдина має розміри XL та XXL і якщо XL як для однієї піци працює досить непогано, XXL показує себе набагато гірше, усього 28 покупок за рік, тож цей розмір доречно прибрати"
   ]
  },
  {
   "cell_type": "code",
   "execution_count": null,
   "id": "33d32ecd",
   "metadata": {},
   "outputs": [],
   "source": []
  }
 ],
 "metadata": {
  "kernelspec": {
   "display_name": "Python 3 (ipykernel)",
   "language": "python",
   "name": "python3"
  },
  "language_info": {
   "codemirror_mode": {
    "name": "ipython",
    "version": 3
   },
   "file_extension": ".py",
   "mimetype": "text/x-python",
   "name": "python",
   "nbconvert_exporter": "python",
   "pygments_lexer": "ipython3",
   "version": "3.9.7"
  }
 },
 "nbformat": 4,
 "nbformat_minor": 5
}
